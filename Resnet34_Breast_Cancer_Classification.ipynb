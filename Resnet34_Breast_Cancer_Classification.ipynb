{
  "cells": [
    {
      "cell_type": "markdown",
      "metadata": {
        "id": "kuydQ4JMnpqm"
      },
      "source": [
        "\n",
        "# Install fastai dependencies"
      ]
    },
    {
      "cell_type": "code",
      "execution_count": null,
      "metadata": {
        "colab": {
          "base_uri": "https://localhost:8080/"
        },
        "id": "R8UumMi6Wp2J",
        "outputId": "66d763ff-ac65-4a09-9adb-8a5956e3af66",
        "vscode": {
          "languageId": "shellscript"
        }
      },
      "outputs": [],
      "source": [
        "pip install fastai"
      ]
    },
    {
      "cell_type": "code",
      "execution_count": null,
      "metadata": {
        "id": "egMX0t6bW2v6"
      },
      "outputs": [],
      "source": [
        "# Import required libraries from fastai and other necessary modules\n",
        "from fastai.vision.all import *\n",
        "# from google.colab import drive\n",
        "from pathlib import Path\n",
        "import os"
      ]
    },
    {
      "cell_type": "markdown",
      "metadata": {
        "id": "GbLk0inLnwpJ"
      },
      "source": [
        "# Download Custom Classification Data From Roboflow"
      ]
    },
    {
      "cell_type": "code",
      "execution_count": null,
      "metadata": {
        "colab": {
          "base_uri": "https://localhost:8080/",
          "height": 670
        },
        "id": "DyyE9YOkYx3Z",
        "outputId": "aebf48db-f2d9-4580-bfc1-8607c724e45d"
      },
      "outputs": [],
      "source": [
        "# Define the path to your dataset\n",
        "dataset_path = './dataset'\n",
        "\n",
        "# Load the dataset\n",
        "# Ensure your dataset has '0' and '1' directories representing classes\n",
        "data = ImageDataLoaders.from_folder(\n",
        "    dataset_path,\n",
        "    valid_pct=0.2,\n",
        "    item_tfms=Resize(224),\n",
        "    batch_tfms=[*aug_transforms(), Normalize.from_stats(*imagenet_stats)]\n",
        ")\n",
        "\n",
        "# Check data classes\n",
        "print(data.vocab)\n",
        "\n",
        "# Visualize a batch of the dataset\n",
        "data.show_batch(max_n=16, figsize=(7, 8))"
      ]
    },
    {
      "cell_type": "markdown",
      "metadata": {
        "id": "0iVCZ49FowXD"
      },
      "source": [
        "# Set up fastai Resnet model"
      ]
    },
    {
      "cell_type": "code",
      "execution_count": null,
      "metadata": {
        "colab": {
          "base_uri": "https://localhost:8080/"
        },
        "id": "aqDLxhf3cb6-",
        "outputId": "64825c30-ef51-4a2a-c719-d1af007b55c6"
      },
      "outputs": [],
      "source": [
        "# Create and train the model\n",
        "learn = vision_learner(data, resnet34, metrics=error_rate)\n",
        "\n",
        "# Print network layers\n",
        "print(learn.model)"
      ]
    },
    {
      "cell_type": "code",
      "execution_count": null,
      "metadata": {},
      "outputs": [],
      "source": []
    },
    {
      "cell_type": "markdown",
      "metadata": {
        "id": "9FEfKeufpA98"
      },
      "source": [
        "# Train Custom Resnet Image Classifier"
      ]
    },
    {
      "cell_type": "code",
      "execution_count": null,
      "metadata": {
        "colab": {
          "base_uri": "https://localhost:8080/",
          "height": 115
        },
        "id": "NUisfLuMuuKF",
        "outputId": "8bd653ba-250f-421f-94c3-8686794f879f"
      },
      "outputs": [],
      "source": [
        "\n",
        "import torch\n",
        "import gc\n",
        "\n",
        "# Callbacks for early stopping and saving the best model\n",
        "early_stop = EarlyStoppingCallback(monitor='error_rate', patience=20)\n",
        "save_best_model = SaveModelCallback(monitor='error_rate', fname='resnet34')\n",
        "\n",
        "\n",
        "torch.cuda.empty_cache()\n",
        "gc.collect()\n",
        "# def clear_gpu_memory():\n",
        "#     torch.cuda.empty_cache()\n",
        "#     gc.collect()\n",
        "#     del variables\n",
        "\n",
        "# Use CUDA if available, otherwise use CPU\n",
        "if torch.cuda.is_available():\n",
        "    # clear_gpu_memory()\n",
        "    learn.dls.cuda()\n",
        "    print(\"Using GPU (CUDA)\")\n",
        "    learn.fit_one_cycle(10, cbs=[early_stop, save_best_model])\n",
        "else:\n",
        "    learn.dls.cpu()\n",
        "    print(\"Using CPU\")\n",
        "\n",
        "# Train with frozen layers"
      ]
    },
    {
      "cell_type": "code",
      "execution_count": null,
      "metadata": {
        "id": "uX4ZsjuDeE_Q"
      },
      "outputs": [],
      "source": [
        "# Load best model from frozen training\n",
        "learn.load('resnet34')\n",
        "\n",
        "# Unfreeze the model\n",
        "learn.unfreeze()\n",
        "\n",
        "# Function to find the appropriate learning rate\n",
        "def find_appropriate_lr(model:Learner, lr_diff:int = 15, loss_threshold:float = .05, adjust_value:float = 1, plot:bool = False) -> float:\n",
        "    # Run the Learning Rate Finder\n",
        "    model.lr_find()\n",
        "\n",
        "    # Get loss values and their corresponding gradients, and get lr values\n",
        "    losses = np.array(model.recorder.losses)\n",
        "    min_loss_index = np.argmin(losses)\n",
        "\n",
        "    # Get learning rates\n",
        "    lrs = model.recorder.lrs\n",
        "\n",
        "    # Return the learning rate that produces the minimum loss divided by 10\n",
        "    return lrs[min_loss_index] / 10\n"
      ]
    },
    {
      "cell_type": "code",
      "execution_count": null,
      "metadata": {
        "colab": {
          "base_uri": "https://localhost:8080/",
          "height": 367
        },
        "id": "EmCaVWCH0FNM",
        "outputId": "a09b7401-66c1-4e4d-94df-f2134aacb177"
      },
      "outputs": [],
      "source": [
        "import torch\n",
        "\n",
        "# Find the optimal learning rate\n",
        "optimal_lr = find_appropriate_lr(learn)\n",
        "\n",
        "# Fine-tune the model with the optimal learning rate\n",
        "learn.unfreeze()\n",
        "learn.fit_one_cycle(100, lr_max=slice(optimal_lr/10, optimal_lr), cbs=[early_stop, save_best_model])\n",
        "\n",
        "# Load the best model after fine-tuning\n",
        "learn.load('resnet34')\n",
        "\n",
        "# Assuming your model is named 'model'\n",
        "# Assuming your optimizer is named 'optimizer'\n",
        "# Assuming you want to save the model to a file named 'model.pth'\n",
        "\n",
        "# Save the model and optimizer state\n",
        "torch.save({\n",
        "    'optimizer_state_dict':learn.model.state_dict()\n",
        "}, 'dataset/models/resnet.pth')"
      ]
    },
    {
      "cell_type": "markdown",
      "metadata": {
        "id": "2UvDkO0cpTVN"
      },
      "source": [
        "# Evaluate Classifier Performance"
      ]
    },
    {
      "cell_type": "code",
      "execution_count": null,
      "metadata": {
        "id": "BW2G0iuXjb1K"
      },
      "outputs": [],
      "source": [
        "# Evaluate the classifier performance\n",
        "interp = ClassificationInterpretation.from_learner(learn)\n",
        "interp.plot_confusion_matrix()\n",
        "\n",
        "# print performance matrix\n",
        "interp.print_classification_report()"
      ]
    },
    {
      "cell_type": "code",
      "execution_count": null,
      "metadata": {
        "id": "LSRYrNIfjoOc"
      },
      "outputs": [],
      "source": [
        "interp.plot_top_losses(9, figsize=(15, 15))"
      ]
    },
    {
      "cell_type": "code",
      "execution_count": null,
      "metadata": {
        "id": "5le0t_k6jrca"
      },
      "outputs": [],
      "source": [
        "from fastai.vision.all import PILImage\n",
        "\n",
        "# Run inference on test images\n",
        "import glob\n",
        "from IPython.display import Image, display\n",
        "\n",
        "image_paths = glob.glob('./dataset/0/*.jpg')\n",
        "print(image_paths)\n",
        "\n",
        "sumC = 0\n",
        "total = 0\n",
        "accuracy = 0\n",
        "\n",
        "for image_path in image_paths:\n",
        "    img = PILImage.create(image_path)\n",
        "    prediction = learn.predict(img)\n",
        "    if prediction[0] == '1':\n",
        "        sumC += 1\n",
        "\n",
        "total = len(image_paths)\n",
        "accuracy = sumC/total * 100\n",
        "print(\"Total: \", total)\n",
        "print(\"Correct: \", sumC)\n",
        "print(\"Accuracy: \", accuracy)\n",
        "\n"
      ]
    },
    {
      "cell_type": "markdown",
      "metadata": {
        "id": "bdoYCSqupcon"
      },
      "source": [
        "# Save custom classification model for future use"
      ]
    },
    {
      "cell_type": "code",
      "execution_count": null,
      "metadata": {
        "id": "iMbXW-l7jZ0e"
      },
      "outputs": [],
      "source": [
        "# Save custom classification model for future use\n",
        "!ls models/\n",
        "\n",
        "# Download the model file\n",
        "from google.colab import files\n",
        "files.download('./models/best_resnet34.pth')"
      ]
    }
  ],
  "metadata": {
    "accelerator": "GPU",
    "colab": {
      "provenance": []
    },
    "kernelspec": {
      "display_name": "cuda-gpt",
      "language": "python",
      "name": "cuda"
    },
    "language_info": {
      "codemirror_mode": {
        "name": "ipython",
        "version": 3
      },
      "file_extension": ".py",
      "mimetype": "text/x-python",
      "name": "python",
      "nbconvert_exporter": "python",
      "pygments_lexer": "ipython3",
      "version": "3.8.10"
    }
  },
  "nbformat": 4,
  "nbformat_minor": 0
}
